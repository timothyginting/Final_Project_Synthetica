{
  "nbformat": 4,
  "nbformat_minor": 0,
  "metadata": {
    "colab": {
      "provenance": [],
      "collapsed_sections": [
        "QKCWQBfamSKf",
        "OEK4GSyivFQE",
        "tX_op72V2Rof",
        "7fiSWCdA2WI0"
      ],
      "toc_visible": true
    },
    "kernelspec": {
      "name": "python3",
      "display_name": "Python 3"
    },
    "language_info": {
      "name": "python"
    }
  },
  "cells": [
    {
      "cell_type": "markdown",
      "source": [
        "# Load Data"
      ],
      "metadata": {
        "id": "QKCWQBfamSKf"
      }
    },
    {
      "cell_type": "code",
      "execution_count": null,
      "metadata": {
        "id": "BakCQl6kjOrL"
      },
      "outputs": [],
      "source": [
        "import numpy as np\n",
        "import pandas as pd\n",
        "import matplotlib.pyplot as plt\n",
        "import seaborn as sns\n",
        "from matplotlib import rcParams\n",
        "import warnings"
      ]
    },
    {
      "cell_type": "code",
      "source": [
        "from google.colab import drive\n",
        "drive.mount('/content/drive')"
      ],
      "metadata": {
        "id": "cFal6HXulV03",
        "colab": {
          "base_uri": "https://localhost:8080/"
        },
        "outputId": "2d17f3a9-904e-41b9-f9b9-9ddf913d09a5"
      },
      "execution_count": null,
      "outputs": [
        {
          "output_type": "stream",
          "name": "stdout",
          "text": [
            "Drive already mounted at /content/drive; to attempt to forcibly remount, call drive.mount(\"/content/drive\", force_remount=True).\n"
          ]
        }
      ]
    },
    {
      "cell_type": "code",
      "source": [
        "#Import data\n",
        "df_1 = pd.read_csv('/content/drive/MyDrive/DATA SCIENTIST/Week 12/employee_survey_data.csv')\n",
        "df_2 = pd.read_csv('/content/drive/MyDrive/DATA SCIENTIST/Week 12/general_data.csv')\n",
        "df_3 = pd.read_csv('/content/drive/MyDrive/DATA SCIENTIST/Week 12/manager_survey_data.csv')\n",
        "df_4 = pd.read_csv('/content/drive/MyDrive/DATA SCIENTIST/Week 12/in_time.csv')\n",
        "df_5 = pd.read_csv('/content/drive/MyDrive/DATA SCIENTIST/Week 12/out_time.csv')"
      ],
      "metadata": {
        "id": "geOBu8ESlZ13"
      },
      "execution_count": null,
      "outputs": []
    },
    {
      "cell_type": "code",
      "source": [
        "rcParams['figure.figsize'] = (10,7)\n",
        "rcParams['lines.linewidth'] = 2.5\n",
        "rcParams['xtick.labelsize'] = 'x-large'\n",
        "rcParams['ytick.labelsize'] = 'x-large'"
      ],
      "metadata": {
        "id": "wXZCbvhIlLt_"
      },
      "execution_count": null,
      "outputs": []
    },
    {
      "cell_type": "code",
      "source": [
        "#Menggabungkan df_1, df_2, dan df_3\n",
        "df_merge = pd.merge(df_1, df_2, on = 'EmployeeID')\n",
        "df_merge = pd.merge(df_merge, df_3, on = 'EmployeeID')\n",
        "df_merge.sample(10)"
      ],
      "metadata": {
        "colab": {
          "base_uri": "https://localhost:8080/"
        },
        "id": "BR0V-N48x-AV",
        "outputId": "75a2796b-ecdf-4228-8a96-7bd2ffeb3029"
      },
      "execution_count": null,
      "outputs": [
        {
          "output_type": "execute_result",
          "data": {
            "text/plain": [
              "      EmployeeID  EnvironmentSatisfaction  JobSatisfaction  WorkLifeBalance  \\\n",
              "540          541                      1.0              2.0              3.0   \n",
              "2884        2885                      4.0              3.0              4.0   \n",
              "506          507                      4.0              2.0              3.0   \n",
              "2723        2724                      4.0              1.0              3.0   \n",
              "2604        2605                      3.0              4.0              3.0   \n",
              "206          207                      2.0              4.0              4.0   \n",
              "2944        2945                      4.0              1.0              3.0   \n",
              "3668        3669                      1.0              4.0              4.0   \n",
              "2146        2147                      4.0              2.0              2.0   \n",
              "3703        3704                      1.0              1.0              3.0   \n",
              "\n",
              "      Age Attrition     BusinessTravel              Department  \\\n",
              "540    33       Yes      Travel_Rarely  Research & Development   \n",
              "2884   34        No  Travel_Frequently  Research & Development   \n",
              "506    28        No      Travel_Rarely  Research & Development   \n",
              "2723   27        No      Travel_Rarely                   Sales   \n",
              "2604   35        No      Travel_Rarely  Research & Development   \n",
              "206    37        No      Travel_Rarely  Research & Development   \n",
              "2944   32        No      Travel_Rarely  Research & Development   \n",
              "3668   39        No      Travel_Rarely  Research & Development   \n",
              "2146   25        No      Travel_Rarely  Research & Development   \n",
              "3703   25       Yes      Travel_Rarely                   Sales   \n",
              "\n",
              "      DistanceFromHome  Education  ... PercentSalaryHike  StandardHours  \\\n",
              "540                  8          2  ...                13              8   \n",
              "2884                 7          2  ...                23              8   \n",
              "506                 10          3  ...                15              8   \n",
              "2723                 8          2  ...                15              8   \n",
              "2604                 5          3  ...                18              8   \n",
              "206                  8          1  ...                16              8   \n",
              "2944                10          1  ...                12              8   \n",
              "3668                17          4  ...                11              8   \n",
              "2146                18          2  ...                25              8   \n",
              "3703                16          4  ...                19              8   \n",
              "\n",
              "     StockOptionLevel  TotalWorkingYears TrainingTimesLastYear YearsAtCompany  \\\n",
              "540                 0                5.0                     2              2   \n",
              "2884                0                5.0                     2              5   \n",
              "506                 0                1.0                     1              1   \n",
              "2723                1                1.0                     3              1   \n",
              "2604                1               10.0                     1             10   \n",
              "206                 1               12.0                     5              6   \n",
              "2944                2                9.0                     2              6   \n",
              "3668                1                8.0                     3              5   \n",
              "2146                0                2.0                     0              2   \n",
              "3703                0                6.0                     3              3   \n",
              "\n",
              "      YearsSinceLastPromotion  YearsWithCurrManager JobInvolvement  \\\n",
              "540                         2                     2              3   \n",
              "2884                        2                     0              3   \n",
              "506                         0                     0              4   \n",
              "2723                        0                     0              2   \n",
              "2604                        0                     9              1   \n",
              "206                         1                     2              3   \n",
              "2944                        0                     4              3   \n",
              "3668                        1                     4              3   \n",
              "2146                        2                     1              3   \n",
              "3703                        2                     2              2   \n",
              "\n",
              "      PerformanceRating  \n",
              "540                   3  \n",
              "2884                  4  \n",
              "506                   3  \n",
              "2723                  3  \n",
              "2604                  3  \n",
              "206                   3  \n",
              "2944                  3  \n",
              "3668                  3  \n",
              "2146                  4  \n",
              "3703                  3  \n",
              "\n",
              "[10 rows x 29 columns]"
            ],
            "text/html": [
              "\n",
              "  <div id=\"df-d81239b3-4d52-4fa4-81aa-e49b33f52d6e\" class=\"colab-df-container\">\n",
              "    <div>\n",
              "<style scoped>\n",
              "    .dataframe tbody tr th:only-of-type {\n",
              "        vertical-align: middle;\n",
              "    }\n",
              "\n",
              "    .dataframe tbody tr th {\n",
              "        vertical-align: top;\n",
              "    }\n",
              "\n",
              "    .dataframe thead th {\n",
              "        text-align: right;\n",
              "    }\n",
              "</style>\n",
              "<table border=\"1\" class=\"dataframe\">\n",
              "  <thead>\n",
              "    <tr style=\"text-align: right;\">\n",
              "      <th></th>\n",
              "      <th>EmployeeID</th>\n",
              "      <th>EnvironmentSatisfaction</th>\n",
              "      <th>JobSatisfaction</th>\n",
              "      <th>WorkLifeBalance</th>\n",
              "      <th>Age</th>\n",
              "      <th>Attrition</th>\n",
              "      <th>BusinessTravel</th>\n",
              "      <th>Department</th>\n",
              "      <th>DistanceFromHome</th>\n",
              "      <th>Education</th>\n",
              "      <th>...</th>\n",
              "      <th>PercentSalaryHike</th>\n",
              "      <th>StandardHours</th>\n",
              "      <th>StockOptionLevel</th>\n",
              "      <th>TotalWorkingYears</th>\n",
              "      <th>TrainingTimesLastYear</th>\n",
              "      <th>YearsAtCompany</th>\n",
              "      <th>YearsSinceLastPromotion</th>\n",
              "      <th>YearsWithCurrManager</th>\n",
              "      <th>JobInvolvement</th>\n",
              "      <th>PerformanceRating</th>\n",
              "    </tr>\n",
              "  </thead>\n",
              "  <tbody>\n",
              "    <tr>\n",
              "      <th>540</th>\n",
              "      <td>541</td>\n",
              "      <td>1.0</td>\n",
              "      <td>2.0</td>\n",
              "      <td>3.0</td>\n",
              "      <td>33</td>\n",
              "      <td>Yes</td>\n",
              "      <td>Travel_Rarely</td>\n",
              "      <td>Research &amp; Development</td>\n",
              "      <td>8</td>\n",
              "      <td>2</td>\n",
              "      <td>...</td>\n",
              "      <td>13</td>\n",
              "      <td>8</td>\n",
              "      <td>0</td>\n",
              "      <td>5.0</td>\n",
              "      <td>2</td>\n",
              "      <td>2</td>\n",
              "      <td>2</td>\n",
              "      <td>2</td>\n",
              "      <td>3</td>\n",
              "      <td>3</td>\n",
              "    </tr>\n",
              "    <tr>\n",
              "      <th>2884</th>\n",
              "      <td>2885</td>\n",
              "      <td>4.0</td>\n",
              "      <td>3.0</td>\n",
              "      <td>4.0</td>\n",
              "      <td>34</td>\n",
              "      <td>No</td>\n",
              "      <td>Travel_Frequently</td>\n",
              "      <td>Research &amp; Development</td>\n",
              "      <td>7</td>\n",
              "      <td>2</td>\n",
              "      <td>...</td>\n",
              "      <td>23</td>\n",
              "      <td>8</td>\n",
              "      <td>0</td>\n",
              "      <td>5.0</td>\n",
              "      <td>2</td>\n",
              "      <td>5</td>\n",
              "      <td>2</td>\n",
              "      <td>0</td>\n",
              "      <td>3</td>\n",
              "      <td>4</td>\n",
              "    </tr>\n",
              "    <tr>\n",
              "      <th>506</th>\n",
              "      <td>507</td>\n",
              "      <td>4.0</td>\n",
              "      <td>2.0</td>\n",
              "      <td>3.0</td>\n",
              "      <td>28</td>\n",
              "      <td>No</td>\n",
              "      <td>Travel_Rarely</td>\n",
              "      <td>Research &amp; Development</td>\n",
              "      <td>10</td>\n",
              "      <td>3</td>\n",
              "      <td>...</td>\n",
              "      <td>15</td>\n",
              "      <td>8</td>\n",
              "      <td>0</td>\n",
              "      <td>1.0</td>\n",
              "      <td>1</td>\n",
              "      <td>1</td>\n",
              "      <td>0</td>\n",
              "      <td>0</td>\n",
              "      <td>4</td>\n",
              "      <td>3</td>\n",
              "    </tr>\n",
              "    <tr>\n",
              "      <th>2723</th>\n",
              "      <td>2724</td>\n",
              "      <td>4.0</td>\n",
              "      <td>1.0</td>\n",
              "      <td>3.0</td>\n",
              "      <td>27</td>\n",
              "      <td>No</td>\n",
              "      <td>Travel_Rarely</td>\n",
              "      <td>Sales</td>\n",
              "      <td>8</td>\n",
              "      <td>2</td>\n",
              "      <td>...</td>\n",
              "      <td>15</td>\n",
              "      <td>8</td>\n",
              "      <td>1</td>\n",
              "      <td>1.0</td>\n",
              "      <td>3</td>\n",
              "      <td>1</td>\n",
              "      <td>0</td>\n",
              "      <td>0</td>\n",
              "      <td>2</td>\n",
              "      <td>3</td>\n",
              "    </tr>\n",
              "    <tr>\n",
              "      <th>2604</th>\n",
              "      <td>2605</td>\n",
              "      <td>3.0</td>\n",
              "      <td>4.0</td>\n",
              "      <td>3.0</td>\n",
              "      <td>35</td>\n",
              "      <td>No</td>\n",
              "      <td>Travel_Rarely</td>\n",
              "      <td>Research &amp; Development</td>\n",
              "      <td>5</td>\n",
              "      <td>3</td>\n",
              "      <td>...</td>\n",
              "      <td>18</td>\n",
              "      <td>8</td>\n",
              "      <td>1</td>\n",
              "      <td>10.0</td>\n",
              "      <td>1</td>\n",
              "      <td>10</td>\n",
              "      <td>0</td>\n",
              "      <td>9</td>\n",
              "      <td>1</td>\n",
              "      <td>3</td>\n",
              "    </tr>\n",
              "    <tr>\n",
              "      <th>206</th>\n",
              "      <td>207</td>\n",
              "      <td>2.0</td>\n",
              "      <td>4.0</td>\n",
              "      <td>4.0</td>\n",
              "      <td>37</td>\n",
              "      <td>No</td>\n",
              "      <td>Travel_Rarely</td>\n",
              "      <td>Research &amp; Development</td>\n",
              "      <td>8</td>\n",
              "      <td>1</td>\n",
              "      <td>...</td>\n",
              "      <td>16</td>\n",
              "      <td>8</td>\n",
              "      <td>1</td>\n",
              "      <td>12.0</td>\n",
              "      <td>5</td>\n",
              "      <td>6</td>\n",
              "      <td>1</td>\n",
              "      <td>2</td>\n",
              "      <td>3</td>\n",
              "      <td>3</td>\n",
              "    </tr>\n",
              "    <tr>\n",
              "      <th>2944</th>\n",
              "      <td>2945</td>\n",
              "      <td>4.0</td>\n",
              "      <td>1.0</td>\n",
              "      <td>3.0</td>\n",
              "      <td>32</td>\n",
              "      <td>No</td>\n",
              "      <td>Travel_Rarely</td>\n",
              "      <td>Research &amp; Development</td>\n",
              "      <td>10</td>\n",
              "      <td>1</td>\n",
              "      <td>...</td>\n",
              "      <td>12</td>\n",
              "      <td>8</td>\n",
              "      <td>2</td>\n",
              "      <td>9.0</td>\n",
              "      <td>2</td>\n",
              "      <td>6</td>\n",
              "      <td>0</td>\n",
              "      <td>4</td>\n",
              "      <td>3</td>\n",
              "      <td>3</td>\n",
              "    </tr>\n",
              "    <tr>\n",
              "      <th>3668</th>\n",
              "      <td>3669</td>\n",
              "      <td>1.0</td>\n",
              "      <td>4.0</td>\n",
              "      <td>4.0</td>\n",
              "      <td>39</td>\n",
              "      <td>No</td>\n",
              "      <td>Travel_Rarely</td>\n",
              "      <td>Research &amp; Development</td>\n",
              "      <td>17</td>\n",
              "      <td>4</td>\n",
              "      <td>...</td>\n",
              "      <td>11</td>\n",
              "      <td>8</td>\n",
              "      <td>1</td>\n",
              "      <td>8.0</td>\n",
              "      <td>3</td>\n",
              "      <td>5</td>\n",
              "      <td>1</td>\n",
              "      <td>4</td>\n",
              "      <td>3</td>\n",
              "      <td>3</td>\n",
              "    </tr>\n",
              "    <tr>\n",
              "      <th>2146</th>\n",
              "      <td>2147</td>\n",
              "      <td>4.0</td>\n",
              "      <td>2.0</td>\n",
              "      <td>2.0</td>\n",
              "      <td>25</td>\n",
              "      <td>No</td>\n",
              "      <td>Travel_Rarely</td>\n",
              "      <td>Research &amp; Development</td>\n",
              "      <td>18</td>\n",
              "      <td>2</td>\n",
              "      <td>...</td>\n",
              "      <td>25</td>\n",
              "      <td>8</td>\n",
              "      <td>0</td>\n",
              "      <td>2.0</td>\n",
              "      <td>0</td>\n",
              "      <td>2</td>\n",
              "      <td>2</td>\n",
              "      <td>1</td>\n",
              "      <td>3</td>\n",
              "      <td>4</td>\n",
              "    </tr>\n",
              "    <tr>\n",
              "      <th>3703</th>\n",
              "      <td>3704</td>\n",
              "      <td>1.0</td>\n",
              "      <td>1.0</td>\n",
              "      <td>3.0</td>\n",
              "      <td>25</td>\n",
              "      <td>Yes</td>\n",
              "      <td>Travel_Rarely</td>\n",
              "      <td>Sales</td>\n",
              "      <td>16</td>\n",
              "      <td>4</td>\n",
              "      <td>...</td>\n",
              "      <td>19</td>\n",
              "      <td>8</td>\n",
              "      <td>0</td>\n",
              "      <td>6.0</td>\n",
              "      <td>3</td>\n",
              "      <td>3</td>\n",
              "      <td>2</td>\n",
              "      <td>2</td>\n",
              "      <td>2</td>\n",
              "      <td>3</td>\n",
              "    </tr>\n",
              "  </tbody>\n",
              "</table>\n",
              "<p>10 rows × 29 columns</p>\n",
              "</div>\n",
              "    <div class=\"colab-df-buttons\">\n",
              "\n",
              "  <div class=\"colab-df-container\">\n",
              "    <button class=\"colab-df-convert\" onclick=\"convertToInteractive('df-d81239b3-4d52-4fa4-81aa-e49b33f52d6e')\"\n",
              "            title=\"Convert this dataframe to an interactive table.\"\n",
              "            style=\"display:none;\">\n",
              "\n",
              "  <svg xmlns=\"http://www.w3.org/2000/svg\" height=\"24px\" viewBox=\"0 -960 960 960\">\n",
              "    <path d=\"M120-120v-720h720v720H120Zm60-500h600v-160H180v160Zm220 220h160v-160H400v160Zm0 220h160v-160H400v160ZM180-400h160v-160H180v160Zm440 0h160v-160H620v160ZM180-180h160v-160H180v160Zm440 0h160v-160H620v160Z\"/>\n",
              "  </svg>\n",
              "    </button>\n",
              "\n",
              "  <style>\n",
              "    .colab-df-container {\n",
              "      display:flex;\n",
              "      gap: 12px;\n",
              "    }\n",
              "\n",
              "    .colab-df-convert {\n",
              "      background-color: #E8F0FE;\n",
              "      border: none;\n",
              "      border-radius: 50%;\n",
              "      cursor: pointer;\n",
              "      display: none;\n",
              "      fill: #1967D2;\n",
              "      height: 32px;\n",
              "      padding: 0 0 0 0;\n",
              "      width: 32px;\n",
              "    }\n",
              "\n",
              "    .colab-df-convert:hover {\n",
              "      background-color: #E2EBFA;\n",
              "      box-shadow: 0px 1px 2px rgba(60, 64, 67, 0.3), 0px 1px 3px 1px rgba(60, 64, 67, 0.15);\n",
              "      fill: #174EA6;\n",
              "    }\n",
              "\n",
              "    .colab-df-buttons div {\n",
              "      margin-bottom: 4px;\n",
              "    }\n",
              "\n",
              "    [theme=dark] .colab-df-convert {\n",
              "      background-color: #3B4455;\n",
              "      fill: #D2E3FC;\n",
              "    }\n",
              "\n",
              "    [theme=dark] .colab-df-convert:hover {\n",
              "      background-color: #434B5C;\n",
              "      box-shadow: 0px 1px 3px 1px rgba(0, 0, 0, 0.15);\n",
              "      filter: drop-shadow(0px 1px 2px rgba(0, 0, 0, 0.3));\n",
              "      fill: #FFFFFF;\n",
              "    }\n",
              "  </style>\n",
              "\n",
              "    <script>\n",
              "      const buttonEl =\n",
              "        document.querySelector('#df-d81239b3-4d52-4fa4-81aa-e49b33f52d6e button.colab-df-convert');\n",
              "      buttonEl.style.display =\n",
              "        google.colab.kernel.accessAllowed ? 'block' : 'none';\n",
              "\n",
              "      async function convertToInteractive(key) {\n",
              "        const element = document.querySelector('#df-d81239b3-4d52-4fa4-81aa-e49b33f52d6e');\n",
              "        const dataTable =\n",
              "          await google.colab.kernel.invokeFunction('convertToInteractive',\n",
              "                                                    [key], {});\n",
              "        if (!dataTable) return;\n",
              "\n",
              "        const docLinkHtml = 'Like what you see? Visit the ' +\n",
              "          '<a target=\"_blank\" href=https://colab.research.google.com/notebooks/data_table.ipynb>data table notebook</a>'\n",
              "          + ' to learn more about interactive tables.';\n",
              "        element.innerHTML = '';\n",
              "        dataTable['output_type'] = 'display_data';\n",
              "        await google.colab.output.renderOutput(dataTable, element);\n",
              "        const docLink = document.createElement('div');\n",
              "        docLink.innerHTML = docLinkHtml;\n",
              "        element.appendChild(docLink);\n",
              "      }\n",
              "    </script>\n",
              "  </div>\n",
              "\n",
              "\n",
              "<div id=\"df-2d81750f-a20d-4adb-96c4-338d270b44a6\">\n",
              "  <button class=\"colab-df-quickchart\" onclick=\"quickchart('df-2d81750f-a20d-4adb-96c4-338d270b44a6')\"\n",
              "            title=\"Suggest charts\"\n",
              "            style=\"display:none;\">\n",
              "\n",
              "<svg xmlns=\"http://www.w3.org/2000/svg\" height=\"24px\"viewBox=\"0 0 24 24\"\n",
              "     width=\"24px\">\n",
              "    <g>\n",
              "        <path d=\"M19 3H5c-1.1 0-2 .9-2 2v14c0 1.1.9 2 2 2h14c1.1 0 2-.9 2-2V5c0-1.1-.9-2-2-2zM9 17H7v-7h2v7zm4 0h-2V7h2v10zm4 0h-2v-4h2v4z\"/>\n",
              "    </g>\n",
              "</svg>\n",
              "  </button>\n",
              "\n",
              "<style>\n",
              "  .colab-df-quickchart {\n",
              "      --bg-color: #E8F0FE;\n",
              "      --fill-color: #1967D2;\n",
              "      --hover-bg-color: #E2EBFA;\n",
              "      --hover-fill-color: #174EA6;\n",
              "      --disabled-fill-color: #AAA;\n",
              "      --disabled-bg-color: #DDD;\n",
              "  }\n",
              "\n",
              "  [theme=dark] .colab-df-quickchart {\n",
              "      --bg-color: #3B4455;\n",
              "      --fill-color: #D2E3FC;\n",
              "      --hover-bg-color: #434B5C;\n",
              "      --hover-fill-color: #FFFFFF;\n",
              "      --disabled-bg-color: #3B4455;\n",
              "      --disabled-fill-color: #666;\n",
              "  }\n",
              "\n",
              "  .colab-df-quickchart {\n",
              "    background-color: var(--bg-color);\n",
              "    border: none;\n",
              "    border-radius: 50%;\n",
              "    cursor: pointer;\n",
              "    display: none;\n",
              "    fill: var(--fill-color);\n",
              "    height: 32px;\n",
              "    padding: 0;\n",
              "    width: 32px;\n",
              "  }\n",
              "\n",
              "  .colab-df-quickchart:hover {\n",
              "    background-color: var(--hover-bg-color);\n",
              "    box-shadow: 0 1px 2px rgba(60, 64, 67, 0.3), 0 1px 3px 1px rgba(60, 64, 67, 0.15);\n",
              "    fill: var(--button-hover-fill-color);\n",
              "  }\n",
              "\n",
              "  .colab-df-quickchart-complete:disabled,\n",
              "  .colab-df-quickchart-complete:disabled:hover {\n",
              "    background-color: var(--disabled-bg-color);\n",
              "    fill: var(--disabled-fill-color);\n",
              "    box-shadow: none;\n",
              "  }\n",
              "\n",
              "  .colab-df-spinner {\n",
              "    border: 2px solid var(--fill-color);\n",
              "    border-color: transparent;\n",
              "    border-bottom-color: var(--fill-color);\n",
              "    animation:\n",
              "      spin 1s steps(1) infinite;\n",
              "  }\n",
              "\n",
              "  @keyframes spin {\n",
              "    0% {\n",
              "      border-color: transparent;\n",
              "      border-bottom-color: var(--fill-color);\n",
              "      border-left-color: var(--fill-color);\n",
              "    }\n",
              "    20% {\n",
              "      border-color: transparent;\n",
              "      border-left-color: var(--fill-color);\n",
              "      border-top-color: var(--fill-color);\n",
              "    }\n",
              "    30% {\n",
              "      border-color: transparent;\n",
              "      border-left-color: var(--fill-color);\n",
              "      border-top-color: var(--fill-color);\n",
              "      border-right-color: var(--fill-color);\n",
              "    }\n",
              "    40% {\n",
              "      border-color: transparent;\n",
              "      border-right-color: var(--fill-color);\n",
              "      border-top-color: var(--fill-color);\n",
              "    }\n",
              "    60% {\n",
              "      border-color: transparent;\n",
              "      border-right-color: var(--fill-color);\n",
              "    }\n",
              "    80% {\n",
              "      border-color: transparent;\n",
              "      border-right-color: var(--fill-color);\n",
              "      border-bottom-color: var(--fill-color);\n",
              "    }\n",
              "    90% {\n",
              "      border-color: transparent;\n",
              "      border-bottom-color: var(--fill-color);\n",
              "    }\n",
              "  }\n",
              "</style>\n",
              "\n",
              "  <script>\n",
              "    async function quickchart(key) {\n",
              "      const quickchartButtonEl =\n",
              "        document.querySelector('#' + key + ' button');\n",
              "      quickchartButtonEl.disabled = true;  // To prevent multiple clicks.\n",
              "      quickchartButtonEl.classList.add('colab-df-spinner');\n",
              "      try {\n",
              "        const charts = await google.colab.kernel.invokeFunction(\n",
              "            'suggestCharts', [key], {});\n",
              "      } catch (error) {\n",
              "        console.error('Error during call to suggestCharts:', error);\n",
              "      }\n",
              "      quickchartButtonEl.classList.remove('colab-df-spinner');\n",
              "      quickchartButtonEl.classList.add('colab-df-quickchart-complete');\n",
              "    }\n",
              "    (() => {\n",
              "      let quickchartButtonEl =\n",
              "        document.querySelector('#df-2d81750f-a20d-4adb-96c4-338d270b44a6 button');\n",
              "      quickchartButtonEl.style.display =\n",
              "        google.colab.kernel.accessAllowed ? 'block' : 'none';\n",
              "    })();\n",
              "  </script>\n",
              "</div>\n",
              "\n",
              "    </div>\n",
              "  </div>\n"
            ],
            "application/vnd.google.colaboratory.intrinsic+json": {
              "type": "dataframe"
            }
          },
          "metadata": {},
          "execution_count": 51
        }
      ]
    },
    {
      "cell_type": "code",
      "source": [
        "df_merge.columns"
      ],
      "metadata": {
        "colab": {
          "base_uri": "https://localhost:8080/"
        },
        "id": "Cyy_rbtyyDe2",
        "outputId": "caa20c2f-1ba8-43d5-972d-93313e1a5fac"
      },
      "execution_count": null,
      "outputs": [
        {
          "output_type": "execute_result",
          "data": {
            "text/plain": [
              "Index(['EmployeeID', 'EnvironmentSatisfaction', 'JobSatisfaction',\n",
              "       'WorkLifeBalance', 'Age', 'Attrition', 'BusinessTravel', 'Department',\n",
              "       'DistanceFromHome', 'Education', 'EducationField', 'EmployeeCount',\n",
              "       'Gender', 'JobLevel', 'JobRole', 'MaritalStatus', 'MonthlyIncome',\n",
              "       'NumCompaniesWorked', 'Over18', 'PercentSalaryHike', 'StandardHours',\n",
              "       'StockOptionLevel', 'TotalWorkingYears', 'TrainingTimesLastYear',\n",
              "       'YearsAtCompany', 'YearsSinceLastPromotion', 'YearsWithCurrManager',\n",
              "       'JobInvolvement', 'PerformanceRating'],\n",
              "      dtype='object')"
            ]
          },
          "metadata": {},
          "execution_count": 52
        }
      ]
    },
    {
      "cell_type": "markdown",
      "source": [
        "# Missing Values"
      ],
      "metadata": {
        "id": "OEK4GSyivFQE"
      }
    },
    {
      "cell_type": "code",
      "source": [
        "df_merge.info()"
      ],
      "metadata": {
        "colab": {
          "base_uri": "https://localhost:8080/"
        },
        "id": "pQX37f1VmatN",
        "outputId": "2402c92d-896f-49cc-ffb6-d59405b4365e"
      },
      "execution_count": null,
      "outputs": [
        {
          "output_type": "stream",
          "name": "stdout",
          "text": [
            "<class 'pandas.core.frame.DataFrame'>\n",
            "RangeIndex: 4410 entries, 0 to 4409\n",
            "Data columns (total 29 columns):\n",
            " #   Column                   Non-Null Count  Dtype  \n",
            "---  ------                   --------------  -----  \n",
            " 0   EmployeeID               4410 non-null   int64  \n",
            " 1   EnvironmentSatisfaction  4385 non-null   float64\n",
            " 2   JobSatisfaction          4390 non-null   float64\n",
            " 3   WorkLifeBalance          4372 non-null   float64\n",
            " 4   Age                      4410 non-null   int64  \n",
            " 5   Attrition                4410 non-null   object \n",
            " 6   BusinessTravel           4410 non-null   object \n",
            " 7   Department               4410 non-null   object \n",
            " 8   DistanceFromHome         4410 non-null   int64  \n",
            " 9   Education                4410 non-null   int64  \n",
            " 10  EducationField           4410 non-null   object \n",
            " 11  EmployeeCount            4410 non-null   int64  \n",
            " 12  Gender                   4410 non-null   object \n",
            " 13  JobLevel                 4410 non-null   int64  \n",
            " 14  JobRole                  4410 non-null   object \n",
            " 15  MaritalStatus            4410 non-null   object \n",
            " 16  MonthlyIncome            4410 non-null   int64  \n",
            " 17  NumCompaniesWorked       4391 non-null   float64\n",
            " 18  Over18                   4410 non-null   object \n",
            " 19  PercentSalaryHike        4410 non-null   int64  \n",
            " 20  StandardHours            4410 non-null   int64  \n",
            " 21  StockOptionLevel         4410 non-null   int64  \n",
            " 22  TotalWorkingYears        4401 non-null   float64\n",
            " 23  TrainingTimesLastYear    4410 non-null   int64  \n",
            " 24  YearsAtCompany           4410 non-null   int64  \n",
            " 25  YearsSinceLastPromotion  4410 non-null   int64  \n",
            " 26  YearsWithCurrManager     4410 non-null   int64  \n",
            " 27  JobInvolvement           4410 non-null   int64  \n",
            " 28  PerformanceRating        4410 non-null   int64  \n",
            "dtypes: float64(5), int64(16), object(8)\n",
            "memory usage: 999.3+ KB\n"
          ]
        }
      ]
    },
    {
      "cell_type": "code",
      "source": [
        "df_merge.isna().sum()"
      ],
      "metadata": {
        "colab": {
          "base_uri": "https://localhost:8080/"
        },
        "id": "8Ne9rZoiy1ux",
        "outputId": "332627a4-d148-4faf-e80b-b313da82497a"
      },
      "execution_count": null,
      "outputs": [
        {
          "output_type": "execute_result",
          "data": {
            "text/plain": [
              "EmployeeID                  0\n",
              "EnvironmentSatisfaction    25\n",
              "JobSatisfaction            20\n",
              "WorkLifeBalance            38\n",
              "Age                         0\n",
              "Attrition                   0\n",
              "BusinessTravel              0\n",
              "Department                  0\n",
              "DistanceFromHome            0\n",
              "Education                   0\n",
              "EducationField              0\n",
              "EmployeeCount               0\n",
              "Gender                      0\n",
              "JobLevel                    0\n",
              "JobRole                     0\n",
              "MaritalStatus               0\n",
              "MonthlyIncome               0\n",
              "NumCompaniesWorked         19\n",
              "Over18                      0\n",
              "PercentSalaryHike           0\n",
              "StandardHours               0\n",
              "StockOptionLevel            0\n",
              "TotalWorkingYears           9\n",
              "TrainingTimesLastYear       0\n",
              "YearsAtCompany              0\n",
              "YearsSinceLastPromotion     0\n",
              "YearsWithCurrManager        0\n",
              "JobInvolvement              0\n",
              "PerformanceRating           0\n",
              "dtype: int64"
            ],
            "text/html": [
              "<div>\n",
              "<style scoped>\n",
              "    .dataframe tbody tr th:only-of-type {\n",
              "        vertical-align: middle;\n",
              "    }\n",
              "\n",
              "    .dataframe tbody tr th {\n",
              "        vertical-align: top;\n",
              "    }\n",
              "\n",
              "    .dataframe thead th {\n",
              "        text-align: right;\n",
              "    }\n",
              "</style>\n",
              "<table border=\"1\" class=\"dataframe\">\n",
              "  <thead>\n",
              "    <tr style=\"text-align: right;\">\n",
              "      <th></th>\n",
              "      <th>0</th>\n",
              "    </tr>\n",
              "  </thead>\n",
              "  <tbody>\n",
              "    <tr>\n",
              "      <th>EmployeeID</th>\n",
              "      <td>0</td>\n",
              "    </tr>\n",
              "    <tr>\n",
              "      <th>EnvironmentSatisfaction</th>\n",
              "      <td>25</td>\n",
              "    </tr>\n",
              "    <tr>\n",
              "      <th>JobSatisfaction</th>\n",
              "      <td>20</td>\n",
              "    </tr>\n",
              "    <tr>\n",
              "      <th>WorkLifeBalance</th>\n",
              "      <td>38</td>\n",
              "    </tr>\n",
              "    <tr>\n",
              "      <th>Age</th>\n",
              "      <td>0</td>\n",
              "    </tr>\n",
              "    <tr>\n",
              "      <th>Attrition</th>\n",
              "      <td>0</td>\n",
              "    </tr>\n",
              "    <tr>\n",
              "      <th>BusinessTravel</th>\n",
              "      <td>0</td>\n",
              "    </tr>\n",
              "    <tr>\n",
              "      <th>Department</th>\n",
              "      <td>0</td>\n",
              "    </tr>\n",
              "    <tr>\n",
              "      <th>DistanceFromHome</th>\n",
              "      <td>0</td>\n",
              "    </tr>\n",
              "    <tr>\n",
              "      <th>Education</th>\n",
              "      <td>0</td>\n",
              "    </tr>\n",
              "    <tr>\n",
              "      <th>EducationField</th>\n",
              "      <td>0</td>\n",
              "    </tr>\n",
              "    <tr>\n",
              "      <th>EmployeeCount</th>\n",
              "      <td>0</td>\n",
              "    </tr>\n",
              "    <tr>\n",
              "      <th>Gender</th>\n",
              "      <td>0</td>\n",
              "    </tr>\n",
              "    <tr>\n",
              "      <th>JobLevel</th>\n",
              "      <td>0</td>\n",
              "    </tr>\n",
              "    <tr>\n",
              "      <th>JobRole</th>\n",
              "      <td>0</td>\n",
              "    </tr>\n",
              "    <tr>\n",
              "      <th>MaritalStatus</th>\n",
              "      <td>0</td>\n",
              "    </tr>\n",
              "    <tr>\n",
              "      <th>MonthlyIncome</th>\n",
              "      <td>0</td>\n",
              "    </tr>\n",
              "    <tr>\n",
              "      <th>NumCompaniesWorked</th>\n",
              "      <td>19</td>\n",
              "    </tr>\n",
              "    <tr>\n",
              "      <th>Over18</th>\n",
              "      <td>0</td>\n",
              "    </tr>\n",
              "    <tr>\n",
              "      <th>PercentSalaryHike</th>\n",
              "      <td>0</td>\n",
              "    </tr>\n",
              "    <tr>\n",
              "      <th>StandardHours</th>\n",
              "      <td>0</td>\n",
              "    </tr>\n",
              "    <tr>\n",
              "      <th>StockOptionLevel</th>\n",
              "      <td>0</td>\n",
              "    </tr>\n",
              "    <tr>\n",
              "      <th>TotalWorkingYears</th>\n",
              "      <td>9</td>\n",
              "    </tr>\n",
              "    <tr>\n",
              "      <th>TrainingTimesLastYear</th>\n",
              "      <td>0</td>\n",
              "    </tr>\n",
              "    <tr>\n",
              "      <th>YearsAtCompany</th>\n",
              "      <td>0</td>\n",
              "    </tr>\n",
              "    <tr>\n",
              "      <th>YearsSinceLastPromotion</th>\n",
              "      <td>0</td>\n",
              "    </tr>\n",
              "    <tr>\n",
              "      <th>YearsWithCurrManager</th>\n",
              "      <td>0</td>\n",
              "    </tr>\n",
              "    <tr>\n",
              "      <th>JobInvolvement</th>\n",
              "      <td>0</td>\n",
              "    </tr>\n",
              "    <tr>\n",
              "      <th>PerformanceRating</th>\n",
              "      <td>0</td>\n",
              "    </tr>\n",
              "  </tbody>\n",
              "</table>\n",
              "</div><br><label><b>dtype:</b> int64</label>"
            ]
          },
          "metadata": {},
          "execution_count": 54
        }
      ]
    },
    {
      "cell_type": "markdown",
      "source": [
        "Terdapat beberapa kolom yang memiliki nilai kosong.\n",
        "\n",
        "- EnvironmentSatisfaction: 25 nilai kosong\n",
        "- JobSatisfaction: 20 nilai kosong\n",
        "- WorkLifeBalance: 38 nilai kosong\n",
        "- NumCompaniesWorked: 19 nilai kosong\n",
        "- TotalWorkingYears: 9 nilai kosong\n",
        "\n",
        "Nilai yang kosong dari EnvironmentSatisfaction, JobSatisfaction, dan WorkLifeBalance diisi dengan modus dari kolom tersebut karena cocok untuk kolom kategorik ordinal yang mewakili sebagian besar data. Sedangkan nilai yang kosong dari NumCompaniesWorked dan TotalWorkingYears diisi dengan mediannya karena lebih robust terhadap outliers."
      ],
      "metadata": {
        "id": "WGBYTtkT1ykT"
      }
    },
    {
      "cell_type": "code",
      "source": [
        "df_merge['EnvironmentSatisfaction'] = df_merge['EnvironmentSatisfaction'].fillna(df_merge['EnvironmentSatisfaction'].mode()[0])\n",
        "df_merge['JobSatisfaction'] = df_merge['JobSatisfaction'].fillna(df_merge['JobSatisfaction'].mode()[0])\n",
        "df_merge['WorkLifeBalance'] = df_merge['WorkLifeBalance'].fillna(df_merge['WorkLifeBalance'].mode()[0])\n",
        "df_merge['NumCompaniesWorked'] = df_merge['NumCompaniesWorked'].fillna(df_merge['NumCompaniesWorked'].median())\n",
        "df_merge['TotalWorkingYears'] = df_merge['TotalWorkingYears'].fillna(df_merge['TotalWorkingYears'].median())"
      ],
      "metadata": {
        "id": "pdmXNkoKzsN0"
      },
      "execution_count": null,
      "outputs": []
    },
    {
      "cell_type": "code",
      "source": [
        "df_merge.isna().sum()"
      ],
      "metadata": {
        "colab": {
          "base_uri": "https://localhost:8080/"
        },
        "id": "-XWR_g4pz-Kq",
        "outputId": "fbaa3ae4-d6d2-44aa-e565-3b1f12490260"
      },
      "execution_count": null,
      "outputs": [
        {
          "output_type": "execute_result",
          "data": {
            "text/plain": [
              "EmployeeID                 0\n",
              "EnvironmentSatisfaction    0\n",
              "JobSatisfaction            0\n",
              "WorkLifeBalance            0\n",
              "Age                        0\n",
              "Attrition                  0\n",
              "BusinessTravel             0\n",
              "Department                 0\n",
              "DistanceFromHome           0\n",
              "Education                  0\n",
              "EducationField             0\n",
              "EmployeeCount              0\n",
              "Gender                     0\n",
              "JobLevel                   0\n",
              "JobRole                    0\n",
              "MaritalStatus              0\n",
              "MonthlyIncome              0\n",
              "NumCompaniesWorked         0\n",
              "Over18                     0\n",
              "PercentSalaryHike          0\n",
              "StandardHours              0\n",
              "StockOptionLevel           0\n",
              "TotalWorkingYears          0\n",
              "TrainingTimesLastYear      0\n",
              "YearsAtCompany             0\n",
              "YearsSinceLastPromotion    0\n",
              "YearsWithCurrManager       0\n",
              "JobInvolvement             0\n",
              "PerformanceRating          0\n",
              "dtype: int64"
            ],
            "text/html": [
              "<div>\n",
              "<style scoped>\n",
              "    .dataframe tbody tr th:only-of-type {\n",
              "        vertical-align: middle;\n",
              "    }\n",
              "\n",
              "    .dataframe tbody tr th {\n",
              "        vertical-align: top;\n",
              "    }\n",
              "\n",
              "    .dataframe thead th {\n",
              "        text-align: right;\n",
              "    }\n",
              "</style>\n",
              "<table border=\"1\" class=\"dataframe\">\n",
              "  <thead>\n",
              "    <tr style=\"text-align: right;\">\n",
              "      <th></th>\n",
              "      <th>0</th>\n",
              "    </tr>\n",
              "  </thead>\n",
              "  <tbody>\n",
              "    <tr>\n",
              "      <th>EmployeeID</th>\n",
              "      <td>0</td>\n",
              "    </tr>\n",
              "    <tr>\n",
              "      <th>EnvironmentSatisfaction</th>\n",
              "      <td>0</td>\n",
              "    </tr>\n",
              "    <tr>\n",
              "      <th>JobSatisfaction</th>\n",
              "      <td>0</td>\n",
              "    </tr>\n",
              "    <tr>\n",
              "      <th>WorkLifeBalance</th>\n",
              "      <td>0</td>\n",
              "    </tr>\n",
              "    <tr>\n",
              "      <th>Age</th>\n",
              "      <td>0</td>\n",
              "    </tr>\n",
              "    <tr>\n",
              "      <th>Attrition</th>\n",
              "      <td>0</td>\n",
              "    </tr>\n",
              "    <tr>\n",
              "      <th>BusinessTravel</th>\n",
              "      <td>0</td>\n",
              "    </tr>\n",
              "    <tr>\n",
              "      <th>Department</th>\n",
              "      <td>0</td>\n",
              "    </tr>\n",
              "    <tr>\n",
              "      <th>DistanceFromHome</th>\n",
              "      <td>0</td>\n",
              "    </tr>\n",
              "    <tr>\n",
              "      <th>Education</th>\n",
              "      <td>0</td>\n",
              "    </tr>\n",
              "    <tr>\n",
              "      <th>EducationField</th>\n",
              "      <td>0</td>\n",
              "    </tr>\n",
              "    <tr>\n",
              "      <th>EmployeeCount</th>\n",
              "      <td>0</td>\n",
              "    </tr>\n",
              "    <tr>\n",
              "      <th>Gender</th>\n",
              "      <td>0</td>\n",
              "    </tr>\n",
              "    <tr>\n",
              "      <th>JobLevel</th>\n",
              "      <td>0</td>\n",
              "    </tr>\n",
              "    <tr>\n",
              "      <th>JobRole</th>\n",
              "      <td>0</td>\n",
              "    </tr>\n",
              "    <tr>\n",
              "      <th>MaritalStatus</th>\n",
              "      <td>0</td>\n",
              "    </tr>\n",
              "    <tr>\n",
              "      <th>MonthlyIncome</th>\n",
              "      <td>0</td>\n",
              "    </tr>\n",
              "    <tr>\n",
              "      <th>NumCompaniesWorked</th>\n",
              "      <td>0</td>\n",
              "    </tr>\n",
              "    <tr>\n",
              "      <th>Over18</th>\n",
              "      <td>0</td>\n",
              "    </tr>\n",
              "    <tr>\n",
              "      <th>PercentSalaryHike</th>\n",
              "      <td>0</td>\n",
              "    </tr>\n",
              "    <tr>\n",
              "      <th>StandardHours</th>\n",
              "      <td>0</td>\n",
              "    </tr>\n",
              "    <tr>\n",
              "      <th>StockOptionLevel</th>\n",
              "      <td>0</td>\n",
              "    </tr>\n",
              "    <tr>\n",
              "      <th>TotalWorkingYears</th>\n",
              "      <td>0</td>\n",
              "    </tr>\n",
              "    <tr>\n",
              "      <th>TrainingTimesLastYear</th>\n",
              "      <td>0</td>\n",
              "    </tr>\n",
              "    <tr>\n",
              "      <th>YearsAtCompany</th>\n",
              "      <td>0</td>\n",
              "    </tr>\n",
              "    <tr>\n",
              "      <th>YearsSinceLastPromotion</th>\n",
              "      <td>0</td>\n",
              "    </tr>\n",
              "    <tr>\n",
              "      <th>YearsWithCurrManager</th>\n",
              "      <td>0</td>\n",
              "    </tr>\n",
              "    <tr>\n",
              "      <th>JobInvolvement</th>\n",
              "      <td>0</td>\n",
              "    </tr>\n",
              "    <tr>\n",
              "      <th>PerformanceRating</th>\n",
              "      <td>0</td>\n",
              "    </tr>\n",
              "  </tbody>\n",
              "</table>\n",
              "</div><br><label><b>dtype:</b> int64</label>"
            ]
          },
          "metadata": {},
          "execution_count": 56
        }
      ]
    },
    {
      "cell_type": "markdown",
      "source": [
        "# Duplicated Data"
      ],
      "metadata": {
        "id": "lXUAMpYOveOU"
      }
    },
    {
      "cell_type": "code",
      "source": [
        "df_merge.duplicated().any()"
      ],
      "metadata": {
        "colab": {
          "base_uri": "https://localhost:8080/"
        },
        "id": "G67n78oLnTcZ",
        "outputId": "638da02c-ead9-4d95-b74a-30ad9f78db79"
      },
      "execution_count": null,
      "outputs": [
        {
          "output_type": "execute_result",
          "data": {
            "text/plain": [
              "False"
            ]
          },
          "metadata": {},
          "execution_count": 57
        }
      ]
    },
    {
      "cell_type": "code",
      "source": [
        "print('Jumlah data duplikat:', df_merge.duplicated().sum())"
      ],
      "metadata": {
        "colab": {
          "base_uri": "https://localhost:8080/"
        },
        "id": "v76bmH2YvkaR",
        "outputId": "d3fa03bc-d6b8-443f-bd13-3da32f2f1f56"
      },
      "execution_count": null,
      "outputs": [
        {
          "output_type": "stream",
          "name": "stdout",
          "text": [
            "Jumlah data duplikat: 0\n"
          ]
        }
      ]
    },
    {
      "cell_type": "markdown",
      "source": [
        "# Outliers"
      ],
      "metadata": {
        "id": "X9jsq9zJ16H3"
      }
    },
    {
      "cell_type": "markdown",
      "source": [
        "Outliers tidak di-handle karena akan fokus menggunakan model yang robust terhadap outliers."
      ],
      "metadata": {
        "id": "JlB5T8FM19z7"
      }
    },
    {
      "cell_type": "markdown",
      "source": [
        "# Feature Encoding"
      ],
      "metadata": {
        "id": "tX_op72V2Rof"
      }
    },
    {
      "cell_type": "code",
      "source": [
        "#Memisahkan features kategorik, numerik dan target\n",
        "numericals = ['Age', 'DistanceFromHome', 'EmployeeCount', 'MonthlyIncome', 'NumCompaniesWorked', 'PercentSalaryHike', 'StandardHours', 'TotalWorkingYears', 'TrainingTimesLastYear', 'YearsAtCompany', 'YearsSinceLastPromotion', 'YearsWithCurrManager']\n",
        "categoricals = ['EnvironmentSatisfaction', 'JobSatisfaction', 'WorkLifeBalance', 'BusinessTravel', 'Department', 'Education', 'EducationField', 'Gender', 'JobLevel', 'JobRole', 'MaritalStatus', 'Over18', 'StockOptionLevel', 'JobInvolvement', 'PerformanceRating']\n",
        "target = ['Attrition']"
      ],
      "metadata": {
        "id": "spHh873A2VGO"
      },
      "execution_count": null,
      "outputs": []
    },
    {
      "cell_type": "code",
      "source": [
        "#Mengubah tipe data menjadi kategorikal untuk 'EnvironmentSatisfaction', 'JobSatisfaction', 'WorkLifeBalance', 'Education', 'JobLevel', 'StockOptionLevel', 'JobInvolvement' dan 'PerformanceRating'\n",
        "columns1 = ['EnvironmentSatisfaction', 'JobSatisfaction', 'WorkLifeBalance', 'Education', 'JobLevel', 'StockOptionLevel', 'JobInvolvement', 'PerformanceRating']\n",
        "\n",
        "#1. Mengubah tipe data menjadi kategorikal untuk data_train\n",
        "for col in columns1:\n",
        "  df_merge[col] = df_merge[col].astype('category')"
      ],
      "metadata": {
        "id": "F7DgFTK5rwdx"
      },
      "execution_count": null,
      "outputs": []
    },
    {
      "cell_type": "code",
      "source": [
        "from sklearn.preprocessing import LabelEncoder\n",
        "\n",
        "#Kolom kategorikal yang akan di OneHot Encoding dan Label Encoding\n",
        "columns_onehot = ['BusinessTravel', 'Department', 'EducationField', 'JobRole', 'MaritalStatus', 'Over18']\n",
        "columns_label = ['Gender', 'Attrition']\n",
        "\n",
        "for col in columns_onehot:\n",
        "  df_onehot = pd.get_dummies(df_merge[col], prefix = col)\n",
        "  df_onehot = df_onehot.astype(int)\n",
        "  df_merge = pd.concat([df_merge, df_onehot], axis = 1)\n",
        "  df_merge.drop(columns = col, inplace = True)\n",
        "\n",
        "for col in columns_label:\n",
        "  le = LabelEncoder()\n",
        "  df_merge[col] = le.fit_transform(df_merge[col])"
      ],
      "metadata": {
        "id": "Op_z6kI24E_x"
      },
      "execution_count": null,
      "outputs": []
    },
    {
      "cell_type": "code",
      "source": [
        "columns_to_drop = ['EmployeeID', 'EmployeeCount', 'StandardHours', 'Over18_Y']\n",
        "\n",
        "#Menghapus kolom dari data\n",
        "df_merge = df_merge.drop(columns = columns_to_drop, axis = 1)"
      ],
      "metadata": {
        "id": "ejTdW5gTsSxr"
      },
      "execution_count": null,
      "outputs": []
    },
    {
      "cell_type": "markdown",
      "source": [
        "# Feature Transformation"
      ],
      "metadata": {
        "id": "BZpASk0OAOug"
      }
    },
    {
      "cell_type": "markdown",
      "source": [
        "Sebelum feature transformation, terlebih dahulu dilakukan split antara data test dan data train. Fit scaling dengan standard scaler hanya dilakukan pada data train, kemudian transformasi data test menggunakan parameter scaling yang telah dipelajari dari data train."
      ],
      "metadata": {
        "id": "QGTZ9Nh7BYqu"
      }
    },
    {
      "cell_type": "code",
      "source": [
        "#Split data train dan test\n",
        "X = df_merge.drop(columns = ['Attrition'])\n",
        "y = df_merge['Attrition']\n",
        "\n",
        "from sklearn.model_selection import train_test_split\n",
        "X_train, X_test, y_train, y_test = train_test_split(X, y, test_size = 0.3, random_state = 42)"
      ],
      "metadata": {
        "id": "cAF4f65-nfrw"
      },
      "execution_count": null,
      "outputs": []
    },
    {
      "cell_type": "code",
      "source": [
        "from sklearn.preprocessing import StandardScaler\n",
        "ss = StandardScaler()\n",
        "\n",
        "numerical_features = ['Age', 'DistanceFromHome', 'MonthlyIncome', 'NumCompaniesWorked',\n",
        "                      'PercentSalaryHike', 'TotalWorkingYears', 'TrainingTimesLastYear',\n",
        "                      'YearsAtCompany', 'YearsSinceLastPromotion', 'YearsWithCurrManager']\n",
        "\n",
        "for n in numerical_features:\n",
        "  scaler = ss.fit(X_train[[n]])\n",
        "  X_train[n] = scaler.transform(X_train[[n]])\n",
        "  X_test[n] = scaler.transform(X_test[[n]])"
      ],
      "metadata": {
        "id": "gBJzUzjMnhXS"
      },
      "execution_count": null,
      "outputs": []
    },
    {
      "cell_type": "markdown",
      "source": [
        "# Class Imbalance"
      ],
      "metadata": {
        "id": "7fiSWCdA2WI0"
      }
    },
    {
      "cell_type": "code",
      "source": [
        "print(pd.Series(y_train).value_counts())"
      ],
      "metadata": {
        "colab": {
          "base_uri": "https://localhost:8080/"
        },
        "id": "I88nn44r2Vky",
        "outputId": "c09a9049-880b-444f-f3c1-e9b14bebfff2"
      },
      "execution_count": null,
      "outputs": [
        {
          "output_type": "stream",
          "name": "stdout",
          "text": [
            "Attrition\n",
            "0    2584\n",
            "1     503\n",
            "Name: count, dtype: int64\n"
          ]
        }
      ]
    },
    {
      "cell_type": "markdown",
      "source": [
        "Terjadi class imbalance dengan rasio dari kelas Yes terhadap kelas No adalah sekitar 19.45%.\n",
        "Untuk mencegah kebocoran data (data leakage), akan dilakukan SMOTE terhadap data train saja, tidak pada data test."
      ],
      "metadata": {
        "id": "go_CTdp28Mbe"
      }
    },
    {
      "source": [
        "from imblearn.over_sampling import SMOTE\n",
        "\n",
        "smote = SMOTE(random_state = 42)\n",
        "X_train_resampled, y_train_resampled = smote.fit_resample(X_train, y_train)\n",
        "\n",
        "print('Ukuran data sebelum SMOTE:', f'X_train: {X_train.shape}, y_train: {y_train.shape}')\n",
        "print('Ukuran data setelah SMOTE:', f'X_train_resampled: {X_train_resampled.shape}, y_train_resampled: {y_train_resampled.shape}')"
      ],
      "cell_type": "code",
      "metadata": {
        "colab": {
          "base_uri": "https://localhost:8080/"
        },
        "id": "H1CM-GC9vpN2",
        "outputId": "e8b7525f-9808-4e58-f371-394cd07bbf54"
      },
      "execution_count": null,
      "outputs": [
        {
          "output_type": "stream",
          "name": "stdout",
          "text": [
            "Ukuran data sebelum SMOTE: X_train: (3087, 43), y_train: (3087,)\n",
            "Ukuran data setelah SMOTE: X_train_resampled: (5168, 43), y_train_resampled: (5168,)\n"
          ]
        }
      ]
    },
    {
      "cell_type": "code",
      "source": [
        "#Melihat jumlah kelas setelah di-SMOTE\n",
        "print(pd.Series(y_train_resampled).value_counts())"
      ],
      "metadata": {
        "colab": {
          "base_uri": "https://localhost:8080/"
        },
        "id": "y-q_bY0PCWuf",
        "outputId": "61feba70-e969-444a-98ae-a478cde0c60a"
      },
      "execution_count": null,
      "outputs": [
        {
          "output_type": "stream",
          "name": "stdout",
          "text": [
            "Attrition\n",
            "0    2584\n",
            "1    2584\n",
            "Name: count, dtype: int64\n"
          ]
        }
      ]
    },
    {
      "cell_type": "markdown",
      "source": [
        "# Feature Selection"
      ],
      "metadata": {
        "id": "kzCDqYvU9iQu"
      }
    },
    {
      "cell_type": "markdown",
      "source": [
        "- Kolom EmployeeID di-drop karena hanya sebagai identify\n",
        "- Kolom EmployeeCount, StandardHours dan Over18 dapat di-drop karena tidak memiliki variabilitas\n",
        "\n",
        "(semuanya sudah dilakukan sebelum feature transformation)"
      ],
      "metadata": {
        "id": "pGtWBwp0A1yz"
      }
    },
    {
      "cell_type": "markdown",
      "source": [
        "# Feature Extraction"
      ],
      "metadata": {
        "id": "wPSO_dCQBFh5"
      }
    },
    {
      "cell_type": "markdown",
      "source": [
        "Beberapa feature baru yang dibangun dari feature yang sudah ada:\n",
        "- PromotionGap (YearsAtCompany - YearsSinceLastPromotion): feature ini jika nilainya besar bisa menunjukkan karyawan tersebut sudah lama tidak dipromosikan dan mungkin merasa kurang dihargai, yang bisa memengaruhi tingkat kepuasan atau kemungkinan mereka keluar dari perusahaan.\n",
        "- AverageYearsPerCompany: feature ini bisa memberikan wawasan tambahan tentang stabilitas pekerjaan karyawan. Jika karyawan sering berpindah perusahaan dalam waktu yang singkat, ini mungkin mengindikasikan ketidakpuasan dengan pekerjaan mereka atau pencarian untuk peluang yang lebih baik."
      ],
      "metadata": {
        "id": "bgvBphyP_jkO"
      }
    },
    {
      "cell_type": "code",
      "source": [
        "#Membuat feature 'PromotionGap' di X_train_resampled dan data_test\n",
        "X_train_resampled['PromotionGap'] = X_train_resampled['YearsAtCompany'] - X_train_resampled['YearsSinceLastPromotion']\n",
        "X_test['PromotionGap'] = X_test['YearsAtCompany'] - X_test['YearsSinceLastPromotion']\n",
        "\n",
        "#Membuat feature 'AverageYearsPerCompany' di X_train_resampled dan data_test\n",
        "X_train_resampled['AverageYearsPerCompany'] = X_train_resampled['TotalWorkingYears'] / (X_train_resampled['NumCompaniesWorked'].replace(0, 1))\n",
        "X_test['AverageYearsPerCompany'] = X_test['TotalWorkingYears'] / (X_test['NumCompaniesWorked'].replace(0, 1))"
      ],
      "metadata": {
        "id": "9xBKWggH_BOT"
      },
      "execution_count": null,
      "outputs": []
    },
    {
      "source": [
        "from sklearn.preprocessing import StandardScaler\n",
        "ss = StandardScaler()\n",
        "\n",
        "numerical_features = ['PromotionGap', 'AverageYearsPerCompany']\n",
        "\n",
        "for n in numerical_features:\n",
        "  scaler = ss.fit(X_train_resampled[[n]])\n",
        "  X_train_resampled[n] = scaler.transform(X_train_resampled[[n]])\n",
        "  X_test[n] = scaler.transform(X_test[[n]])"
      ],
      "cell_type": "code",
      "metadata": {
        "id": "7DgiK9ebBnl7"
      },
      "execution_count": null,
      "outputs": []
    },
    {
      "cell_type": "markdown",
      "source": [
        "Beberapa feature tambahan yang mungkin akan sangat membantu membuat performansi model semakin bagus:\n",
        "- JobFitIndicator: perbandingan antara level pekerjaan dengan jumlah pengalaman kerja yang dimiliki. Feature ini menggambarkan kesesuaian antara posisi yang dijabat karyawan dengan keterampilan dan latar belakang mereka. Jika seseorang memiliki banyak pengalaman tapi berada di level pekerjaan yang lebih rendah, mereka mungkin merasa kurang dihargai atau tidak sesuai dengan potensi mereka, yang bisa mendorong attrition.\n",
        "- Annual_Leave: berapa kali cuti yang diambil karyawan selama setahun. Feature ini bisa memberikan gambaran bahwa karyawan yang merasa nyaman untuk mengambil cuti  tahunan atau merasa perusahaan mendukung work-life balance dan kehidupan pribadi mereka, kemungkinan lebih puas dan lebih sedikit berisiko untuk meninggalkan perusahaan.\n",
        "- Vacation_Leave: berapa kali karyawan mengambil cuti liburan selama setahun. Feature ini bisa memberikan gambaran bahwa karyawan yang merasa nyaman untuk mengambil cuti liburan atau merasa perusahaan mendukung work-life balance dan kehidupan pribadi mereka, kemungkinan lebih puas dan lebih sedikit berisiko untuk meninggalkan perusahaan.\n",
        "- Liabilities: Jumlah tanggungan yang perlu dibayar karyawan per bulan seperti hutang atau cicilan. Karyawan dengan kewajiban finansial yang besar mungkin lebih cenderung berpindah ke perusahaan lain yang menawarkan gaji lebih tinggi, tunjangan yang lebih baik, atau lebih banyak peluang untuk memperoleh bonus."
      ],
      "metadata": {
        "id": "eoebSZrCB4ag"
      }
    }
  ]
}